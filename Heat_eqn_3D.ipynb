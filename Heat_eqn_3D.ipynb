{
  "cells": [
    {
      "cell_type": "markdown",
      "metadata": {
        "id": "HSy18KJ_Rgve"
      },
      "source": [
        "# Importing TensorFlow and Numpy"
      ]
    },
    {
      "cell_type": "code",
      "execution_count": null,
      "metadata": {
        "id": "2aj02AtsQ5TD"
      },
      "outputs": [],
      "source": [
        "# Import TensorFlow and NumPy\n",
        "import tensorflow as tf\n",
        "import numpy as np\n",
        "import matplotlib.pyplot as plt"
      ]
    },
    {
      "cell_type": "markdown",
      "source": [
        "#Defining Initial and Boundary Conditions and PDE"
      ],
      "metadata": {
        "id": "e2Pb7JdTTToU"
      }
    },
    {
      "cell_type": "code",
      "execution_count": null,
      "metadata": {
        "id": "9uWYQ8THAcX-"
      },
      "outputs": [],
      "source": [
        "# X = [[x1,y1],[x2,y2],[x3,y3]] 2D\n",
        "# X = [[x1,y1,z1],[x2,y2,z2],[x3,y3,z3]] 3D\n",
        "def U_0(x): # Define initial condition\n",
        "    return 0.5*tf.exp(-1*tf.reduce_mean(tf.square(x),axis = 1)/0.01) #gaussian function\n",
        "\n",
        "def U_b(t, x): # Define boundary condition\n",
        "    return tf.zeros((1,x.shape[0]), dtype='float32')\n",
        "\n",
        "def PDE(t, x, u, u_t, u_x, u_xx): # Defining PDE to solve\n",
        "    # Set constants\n",
        "    k = 0.01\n",
        "    return (u_t - tf.reshape(tf.linalg.trace(u_xx),(-1,1)))  # Take trace because u_xx will be on diagonal in hessian matrix"
      ]
    },
    {
      "cell_type": "markdown",
      "source": [
        "# Plotting to see the initial condition plot"
      ],
      "metadata": {
        "id": "WfxN1HYFBbNy"
      }
    },
    {
      "cell_type": "code",
      "source": [
        "N = 600\n",
        "x1_space = np.linspace(-1, 1, N + 1)\n",
        "x2_space = np.linspace(-1, 1, N + 1)\n",
        "x3_space = np.linspace(-1, 1, N + 1)\n",
        "# X1, X2 = np.meshgrid(x1_space, x2_space)\n",
        "# Xgrid = np.vstack([X1.flatten(),X2.flatten()]).T\n",
        "# Xgrid = tf.convert_to_tensor(Xgrid)\n",
        "# upred = np.array(U_0(Xgrid)).reshape(N+1,N+1)\n",
        "# fig = plt.figure(figsize=(9,6))\n",
        "# ax = fig.add_subplot(111, projection='3d')\n",
        "# ax.plot_surface(X1, X2,upred, cmap='viridis');"
      ],
      "metadata": {
        "id": "7URk5iipKR0l"
      },
      "execution_count": null,
      "outputs": []
    },
    {
      "cell_type": "markdown",
      "metadata": {
        "id": "14aqLEwhS76A"
      },
      "source": [
        "# $Setting$ $(t,x)$ $Boundry$ $Values$"
      ]
    },
    {
      "cell_type": "code",
      "execution_count": null,
      "metadata": {
        "id": "4kniKH5qBXEq"
      },
      "outputs": [],
      "source": [
        "# Set boundary\n",
        "tmin = tf.constant(0.0, dtype='float32')\n",
        "tmax = tf.constant(1.0, dtype='float32')\n",
        "\n",
        "# Here we will be providing in mulit diminsinal form # Xmin = [[x1min,x2min]], Xmax = [[x1max,x2max]]\n",
        "xmin = tf.constant([[-1.0,-1.0,-1.0]], dtype='float32')\n",
        "xmax = tf.constant([[1.0,1.0,1.0]], dtype='float32')"
      ]
    },
    {
      "cell_type": "markdown",
      "metadata": {
        "id": "sfsDDngTTzPn"
      },
      "source": [
        "#  $Genrating$ $Random$ $points$ $from$ $Uniform$ $Distibution$"
      ]
    },
    {
      "cell_type": "code",
      "execution_count": null,
      "metadata": {
        "id": "m6Sju_KUQ7I5"
      },
      "outputs": [],
      "source": [
        "# Set number of data points\n",
        "N_0 = 100    ## Initial Condition\n",
        "N_b = 100    ## Boundry Condition\n",
        "N_i = 1000 ## Collocation points\n",
        "\n",
        "# Set random seed for reproducible results\n",
        "tf.random.set_seed(0)"
      ]
    },
    {
      "cell_type": "markdown",
      "metadata": {
        "id": "lJ2MsXV3VEg9"
      },
      "source": [
        "- Draw uniform sample points for Initial Condition"
      ]
    },
    {
      "cell_type": "code",
      "execution_count": null,
      "metadata": {
        "id": "9l1x2PSxUvYu"
      },
      "outputs": [],
      "source": [
        "t_0 = tf.ones((N_0,1), dtype='float32')*tmin\n",
        "x_0 = tf.stack([tf.random.uniform((N_0,), xmin[0][i], xmax[0][i], dtype='float32') for i in range(xmin.shape[1])],axis = 1)\n",
        "X_0 = tf.concat([t_0, x_0], -1)\n",
        "\n",
        "# Evaluate intitial condition at x_0\n",
        "u_0 = U_0(x_0)"
      ]
    },
    {
      "cell_type": "markdown",
      "metadata": {
        "id": "p7r3ZmpgVSvz"
      },
      "source": [
        "- Draw uniform sample points for Boundary Condition"
      ]
    },
    {
      "cell_type": "code",
      "execution_count": null,
      "metadata": {
        "id": "sm0Mwx5YU0S7"
      },
      "outputs": [],
      "source": [
        "t_b = tf.random.uniform((N_b,1), tmin, tmax, dtype='float32')\n",
        "\n",
        "x_b = xmin + (xmax - xmin) * tf.keras.backend.random_bernoulli((N_b,xmin.shape[1]), 0.5, dtype='float32')  ## Time can be anything (X= [+1,+1],[+1,-1],[-1,+1],[-1,-1] )\n",
        "X_b = tf.concat([t_b, x_b], -1)\n",
        "\n",
        "# # Evaluate boundary condition at (t_b,x_b)\n",
        "u_b = U_b(t_b, x_b)"
      ]
    },
    {
      "cell_type": "markdown",
      "metadata": {
        "id": "grGjL4RxVk6R"
      },
      "source": [
        "- Draw uniform sample Collocation Points"
      ]
    },
    {
      "cell_type": "code",
      "execution_count": null,
      "metadata": {
        "id": "3cxZM0-DU4L7"
      },
      "outputs": [],
      "source": [
        "t_i = tf.random.uniform((N_i,1), tmin, tmax, dtype='float32')\n",
        "x_i = tf.stack([tf.random.uniform((N_i,), xmin[0][i], xmax[0][i], dtype='float32') for i in range(xmin.shape[1])],axis = 1)\n",
        "X_i = tf.concat([t_i, x_i], -1)\n",
        "\n",
        "# Collect boundary and inital data in lists\n",
        "X_data = [X_0, X_b]\n",
        "u_data = [u_0, u_b]"
      ]
    },
    {
      "cell_type": "markdown",
      "metadata": {
        "id": "noeXUxpXWFcv"
      },
      "source": [
        "# Plotting Data Generated"
      ]
    },
    {
      "cell_type": "markdown",
      "source": [
        "Fix x_b"
      ],
      "metadata": {
        "id": "aPLYE0_fd9FD"
      }
    },
    {
      "cell_type": "code",
      "execution_count": null,
      "metadata": {
        "id": "iSAqMgGpKUQL"
      },
      "outputs": [],
      "source": [
        "# import matplotlib.pyplot as plt\n",
        "\n",
        "# fig = plt.figure(figsize=(15,10))\n",
        "# ax = fig.add_subplot(projection='3d')\n",
        "# ax.scatter(t_0, x_0[:,0],x_0[:,1], c='blue', marker='X', vmin=-1, vmax=1)\n",
        "# ax.scatter(t_b, x_b[:,0],x_b[:,1], c='green', marker='X', vmin=-1, vmax=1)\n",
        "# ax.scatter(t_i, x_i[:,0],x_i[:,1], c='red', marker='x',alpha=0.25)\n",
        "# # plt.xlabel('t',fontsize=15)\n",
        "# # plt.ylabel('x',fontsize=15)\n",
        "# plt.legend([\"initial pts\",\"boundry pts\",\"collocation pts\"])\n",
        "\n",
        "# plt.title('Data Generated');"
      ]
    },
    {
      "cell_type": "markdown",
      "metadata": {
        "id": "DIjJA0o7Xx-e"
      },
      "source": [
        "# Defining the Neural Network"
      ]
    },
    {
      "cell_type": "code",
      "execution_count": null,
      "metadata": {
        "id": "wiTfGDMbKWFG"
      },
      "outputs": [],
      "source": [
        "def init_model(num_dims = 3,num_hidden_layers=4, num_neurons_per_layer=20):\n",
        "    # Initialize a feedforward neural network\n",
        "    model = tf.keras.Sequential()\n",
        "\n",
        "    # Input is two-dimensional (time + one spatial dimension)\n",
        "    model.add(tf.keras.Input(1 + num_dims))\n",
        "\n",
        "    # Append hidden layers\n",
        "    for _ in range(num_hidden_layers):\n",
        "        model.add(tf.keras.layers.Dense(num_neurons_per_layer,\n",
        "            activation=tf.keras.activations.get('tanh')))\n",
        "\n",
        "    # Output is one-dimensional\n",
        "    model.add(tf.keras.layers.Dense(1))\n",
        "\n",
        "    return model"
      ]
    },
    {
      "cell_type": "markdown",
      "metadata": {
        "id": "LcYiBIDMYa7O"
      },
      "source": [
        "# *Calculating U, U<sub>$x$</sub>, U<sub>$t$</sub> ,U<sub>$xx$</sub> for PDE*"
      ]
    },
    {
      "cell_type": "code",
      "execution_count": null,
      "metadata": {
        "id": "7JAGnVUpKWU3"
      },
      "outputs": [],
      "source": [
        "def get_pde(model, X_i):\n",
        "\n",
        "    # A tf.GradientTape is used to compute derivatives in TensorFlow\n",
        "    # Persistent = True because, if false then tape gets deleted after one gradient calculation\n",
        "\n",
        "    with tf.GradientTape(persistent=True) as t2:\n",
        "      t, x = X_i[:,0:1], X_i[:,1::]\n",
        "      t2.watch(t)\n",
        "      t2.watch(x)\n",
        "      with tf.GradientTape(persistent=True) as t1:\n",
        "        # Variables t and x are watched during tape to compute derivatives u_t and u_x\n",
        "        t1.watch(t)\n",
        "        t1.watch(x)\n",
        "        # Determine residual\n",
        "        u = model(tf.concat([t, x], -1))\n",
        "\n",
        "      # Compute gradient u_x within the GradientTape since we need second derivatives\n",
        "      u_x = t1.gradient(u, x)\n",
        "    u_t = t1.gradient(u, t)\n",
        "    u_xx = t2.batch_jacobian(u_x, x) # calculating the hessian matrix\n",
        "    del t1\n",
        "    del t2\n",
        "    return PDE(t, x, u, u_t, u_x, u_xx)"
      ]
    },
    {
      "cell_type": "markdown",
      "source": [
        "$\n",
        "\\mathbf{H}_f(\\mathbf{x}_\\mathbf{A}) = \\begin{pmatrix}\n",
        "\\dfrac{\\partial^2 f}{\\partial {x_1}^2}(\\mathbf{x}_\\mathbf{A})\n",
        "&& \\dfrac{\\partial^2 f}{\\partial x_1\\, \\partial x_2}(\\mathbf{x}_\\mathbf{A})\\\\\n",
        "\\dfrac{\\partial^2 f}{\\partial x_2\\,\\partial x_1}(\\mathbf{x}_\\mathbf{A})\n",
        "&& \\dfrac{\\partial^2 f}{\\partial {x_2}^2}(\\mathbf{x}_\\mathbf{A})\\\\\n",
        "\\end{pmatrix}\n",
        "$"
      ],
      "metadata": {
        "id": "ACkXfqKcKw90"
      }
    },
    {
      "cell_type": "markdown",
      "source": [
        "![image.png](data:image/png;base64,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)"
      ],
      "metadata": {
        "id": "3OVaaa4_GQdX"
      }
    },
    {
      "cell_type": "markdown",
      "metadata": {
        "id": "bT_D7tyDZr6j"
      },
      "source": [
        "# Computing The Loss Fuction for the PDE\n",
        "![image.png](data:image/png;base64,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)"
      ]
    },
    {
      "cell_type": "code",
      "execution_count": null,
      "metadata": {
        "id": "joxvOVNgKWgi"
      },
      "outputs": [],
      "source": [
        "def compute_loss(model, X_i, X_data, u_data):\n",
        "\n",
        "    # Compute L_r (Residual Loss)\n",
        "    pde = get_pde(model, X_i)\n",
        "    L_r = tf.reduce_mean(tf.square(pde))\n",
        "\n",
        "    # Initialize loss\n",
        "    loss = L_r\n",
        "\n",
        "    # Add L_0 and L_b to the loss\n",
        "    for i in range(len(X_data)):\n",
        "        u_pred = model(X_data[i])\n",
        "        loss += tf.reduce_mean(tf.square(u_data[i] - u_pred))\n",
        "\n",
        "    return loss"
      ]
    },
    {
      "cell_type": "markdown",
      "metadata": {
        "id": "2xTnZn-EbCKC"
      },
      "source": [
        "# Getting Gradients for Trainable Neural Network Parameters"
      ]
    },
    {
      "cell_type": "code",
      "execution_count": null,
      "metadata": {
        "id": "j7_avtopKWw8"
      },
      "outputs": [],
      "source": [
        "def get_grad(model, X_i, X_data, u_data):\n",
        "\n",
        "    with tf.GradientTape(persistent=True) as tape:\n",
        "        # This tape is for derivatives with\n",
        "        # respect to trainable variables\n",
        "        tape.watch(model.trainable_variables)\n",
        "        loss = compute_loss(model, X_i, X_data, u_data)\n",
        "\n",
        "    g = tape.gradient(loss, model.trainable_variables)\n",
        "    del tape\n",
        "\n",
        "    return loss, g"
      ]
    },
    {
      "cell_type": "markdown",
      "metadata": {
        "id": "Ebfz4b-jbVFj"
      },
      "source": [
        "# Initializing Model and Optimizer"
      ]
    },
    {
      "cell_type": "code",
      "execution_count": null,
      "metadata": {
        "id": "IXdQu2t8LPG1"
      },
      "outputs": [],
      "source": [
        "# Initialize model\n",
        "model = init_model(num_dims = 3)\n",
        "\n",
        "# Choose the optimizer\n",
        "\n",
        "lr = tf.keras.optimizers.schedules.PiecewiseConstantDecay([1000,3000,6000],[1e-2,1e-3,5e-4,5e-5])\n",
        "optim = tf.keras.optimizers.Adam(learning_rate=lr)"
      ]
    },
    {
      "cell_type": "markdown",
      "metadata": {
        "id": "7_U_99A6bbLf"
      },
      "source": [
        "# Training the Model"
      ]
    },
    {
      "cell_type": "code",
      "execution_count": null,
      "metadata": {
        "colab": {
          "base_uri": "https://localhost:8080/"
        },
        "id": "LHDO4tIILaOH",
        "outputId": "679b3a9a-cfd0-41c4-826f-be72a561551b"
      },
      "outputs": [
        {
          "output_type": "stream",
          "name": "stdout",
          "text": [
            "It 00000: loss = 1.24926940e-01\n",
            "It 00200: loss = 9.63486582e-06\n",
            "It 00400: loss = 7.35052072e-06\n",
            "It 00600: loss = 6.57196279e-06\n",
            "It 00800: loss = 6.16958641e-06\n",
            "It 01000: loss = 5.92953393e-06\n",
            "It 01200: loss = 5.90868331e-06\n",
            "It 01400: loss = 5.88694820e-06\n",
            "It 01600: loss = 5.86367969e-06\n",
            "It 01800: loss = 5.83909787e-06\n",
            "It 02000: loss = 5.81339782e-06\n",
            "It 02200: loss = 5.78677736e-06\n",
            "It 02400: loss = 5.75941021e-06\n",
            "It 02600: loss = 5.73148009e-06\n",
            "It 02800: loss = 5.70315069e-06\n",
            "It 03000: loss = 5.67456709e-06\n",
            "It 03200: loss = 5.65979872e-06\n",
            "It 03400: loss = 5.64435004e-06\n",
            "It 03600: loss = 5.62819332e-06\n",
            "It 03800: loss = 5.61135448e-06\n",
            "It 04000: loss = 5.59389264e-06\n",
            "It 04200: loss = 5.57585781e-06\n",
            "It 04400: loss = 5.55730458e-06\n",
            "It 04600: loss = 5.53831114e-06\n",
            "It 04800: loss = 5.51893845e-06\n",
            "It 05000: loss = 5.49925971e-06\n",
            "It 05200: loss = 5.47936497e-06\n",
            "It 05400: loss = 5.45931516e-06\n",
            "It 05600: loss = 5.43919759e-06\n",
            "It 05800: loss = 5.41909003e-06\n",
            "It 06000: loss = 5.39907342e-06\n",
            "It 06200: loss = 5.39690564e-06\n",
            "It 06400: loss = 5.39462872e-06\n",
            "It 06600: loss = 5.39214489e-06\n",
            "It 06800: loss = 5.38943823e-06\n",
            "It 07000: loss = 5.38649874e-06\n",
            "It 07200: loss = 5.38331096e-06\n",
            "It 07400: loss = 5.37984988e-06\n",
            "It 07600: loss = 5.37610913e-06\n",
            "It 07800: loss = 5.37206824e-06\n",
            "It 08000: loss = 5.36770403e-06\n",
            "It 08200: loss = 5.36301968e-06\n",
            "It 08400: loss = 5.35798790e-06\n",
            "It 08600: loss = 5.35260051e-06\n",
            "It 08800: loss = 5.34685432e-06\n",
            "It 09000: loss = 5.34073433e-06\n",
            "It 09200: loss = 5.33424509e-06\n",
            "It 09400: loss = 5.32738204e-06\n",
            "It 09600: loss = 5.32015065e-06\n",
            "It 09800: loss = 5.31255955e-06\n",
            "It 10000: loss = 5.30462239e-06\n",
            "\n",
            "Computation time: 126.8807384967804 seconds\n"
          ]
        }
      ],
      "source": [
        "from time import time\n",
        "\n",
        "# Define one training step as a TensorFlow function to increase speed of training\n",
        "@tf.function\n",
        "def train_step():\n",
        "    # Compute current loss and gradient w.r.t. parameters\n",
        "    loss, grad_theta = get_grad(model, X_i, X_data, u_data)\n",
        "\n",
        "    # Perform gradient descent step\n",
        "    optim.apply_gradients(zip(grad_theta, model.trainable_variables))\n",
        "    return loss\n",
        "\n",
        "# Number of training epochs\n",
        "N = 10000\n",
        "hist = []\n",
        "\n",
        "# Start timer\n",
        "t0 = time()\n",
        "\n",
        "for i in range(N+1):\n",
        "\n",
        "    loss = train_step()\n",
        "\n",
        "    # Append current loss to hist\n",
        "    hist.append(loss.numpy())\n",
        "\n",
        "    # Output current loss after 100 iterates\n",
        "    if i%200 == 0:\n",
        "        print('It {:05d}: loss = {:10.8e}'.format(i,loss))\n",
        "\n",
        "# Print computation time\n",
        "print('\\nComputation time: {} seconds'.format(time()-t0))"
      ]
    },
    {
      "cell_type": "code",
      "source": [
        "len(np.meshgrid(tspace, xspace[:,0,0],xspace[:,0,1],xspace[:,0,2]))"
      ],
      "metadata": {
        "colab": {
          "base_uri": "https://localhost:8080/"
        },
        "id": "ro-l_9rtMFiH",
        "outputId": "07f40d4b-986a-4e0b-dca5-7ac20e3f9873"
      },
      "execution_count": null,
      "outputs": [
        {
          "output_type": "execute_result",
          "data": {
            "text/plain": [
              "4"
            ]
          },
          "metadata": {},
          "execution_count": 51
        }
      ]
    },
    {
      "cell_type": "code",
      "source": [
        "N = 10\n",
        "tspace = np.linspace(tmin, tmax, N + 1)\n",
        "xspace = np.linspace(xmin, xmax, N + 1)\n",
        "T, X1, X2, X3 = np.meshgrid(tspace, xspace[:,0,0],xspace[:,0,1],xspace[:,0,2])\n",
        "Xgrid = np.vstack([T.flatten(),X1.flatten(),X2.flatten(),X3.flatten()]).T\n",
        "\n",
        "# Actual Values get this from FDM ans compare\n",
        "# uact = U(X,T) from FDM\n",
        "# Determine predictions of u(t, x)\n",
        "upred = model(tf.cast(Xgrid,'float32'))\n",
        "\n",
        "# Reshape upred\n",
        "U_pred = upred.numpy().reshape(N+1,N+1,N+1,N+1)\n",
        "# U_act = uact.reshape(N+1,N+1)"
      ],
      "metadata": {
        "id": "brWY6Qj0GfjT"
      },
      "execution_count": null,
      "outputs": []
    },
    {
      "cell_type": "code",
      "source": [
        "U_pred[0,0,0,0]"
      ],
      "metadata": {
        "colab": {
          "base_uri": "https://localhost:8080/"
        },
        "id": "wKmtFhHQT0VL",
        "outputId": "7203419e-9725-452e-9114-a46746379ead"
      },
      "execution_count": null,
      "outputs": [
        {
          "output_type": "execute_result",
          "data": {
            "text/plain": [
              "0.0002358733"
            ]
          },
          "metadata": {},
          "execution_count": 53
        }
      ]
    }
  ],
  "metadata": {
    "colab": {
      "provenance": []
    },
    "kernelspec": {
      "display_name": "Python 3",
      "name": "python3"
    },
    "language_info": {
      "name": "python"
    }
  },
  "nbformat": 4,
  "nbformat_minor": 0
}